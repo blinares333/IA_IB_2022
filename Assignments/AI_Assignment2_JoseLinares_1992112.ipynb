{
  "nbformat": 4,
  "nbformat_minor": 0,
  "metadata": {
    "colab": {
      "provenance": [],
      "authorship_tag": "ABX9TyMAoqJaGMNjB2ibZVd+Lz0c",
      "include_colab_link": true
    },
    "kernelspec": {
      "name": "python3",
      "display_name": "Python 3"
    },
    "language_info": {
      "name": "python"
    }
  },
  "cells": [
    {
      "cell_type": "markdown",
      "metadata": {
        "id": "view-in-github",
        "colab_type": "text"
      },
      "source": [
        "<a href=\"https://colab.research.google.com/github/blinares333/IA_IB_2022/blob/main/Assignments/AI_Assignment2_JoseLinares_1992112.ipynb\" target=\"_parent\"><img src=\"https://colab.research.google.com/assets/colab-badge.svg\" alt=\"Open In Colab\"/></a>"
      ]
    },
    {
      "cell_type": "code",
      "execution_count": 29,
      "metadata": {
        "colab": {
          "base_uri": "https://localhost:8080/"
        },
        "id": "gmF4FxrV5jBC",
        "outputId": "f7a372cd-014d-4b06-d3aa-bc4f40be95ba"
      },
      "outputs": [
        {
          "output_type": "stream",
          "name": "stdout",
          "text": [
            "what is your name?Ana\n",
            "No greet\n"
          ]
        }
      ],
      "source": [
        "# Jose Brayan Linares Gutierrez 1992112 N4\n",
        "message= input('what is your name? ')\n",
        "greet='Hi'\n",
        "Ng=('No greet')\n",
        "ng=['Ana','ana','John', 'john', 'Peter', 'peter']\n",
        "if message in ng:\n",
        " print(Ng)\n",
        "else:\n",
        " print(greet, message)"
      ]
    },
    {
      "cell_type": "code",
      "source": [
        "list=[2,4,6,8,10,12,14]\n",
        "print(list[6])\n",
        "list.reverse()\n",
        "print(list)"
      ],
      "metadata": {
        "colab": {
          "base_uri": "https://localhost:8080/"
        },
        "id": "FZlhii4l1CyX",
        "outputId": "1f7ba217-8b31-43be-9689-b5f57e5c5a43"
      },
      "execution_count": 32,
      "outputs": [
        {
          "output_type": "stream",
          "name": "stdout",
          "text": [
            "14\n",
            "[14, 12, 10, 8, 6, 4, 2]\n"
          ]
        }
      ]
    },
    {
      "cell_type": "code",
      "source": [
        "list=['**********','*Hi      *', '*My      *', '*Name    *', '*is      *', '*Jose    *', '*Linares *','**********']\n",
        "for x in list: \n",
        " print(x)"
      ],
      "metadata": {
        "colab": {
          "base_uri": "https://localhost:8080/"
        },
        "id": "A1RVNk6w2hhD",
        "outputId": "b7780932-a143-4657-d695-ebb5a9702920"
      },
      "execution_count": 38,
      "outputs": [
        {
          "output_type": "stream",
          "name": "stdout",
          "text": [
            "**********\n",
            "*Hi      *\n",
            "*My      *\n",
            "*Name    *\n",
            "*is      *\n",
            "*Jose    *\n",
            "*Linares *\n",
            "**********\n"
          ]
        }
      ]
    }
  ]
}